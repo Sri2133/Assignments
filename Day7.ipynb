{
  "nbformat": 4,
  "nbformat_minor": 0,
  "metadata": {
    "colab": {
      "provenance": [],
      "authorship_tag": "ABX9TyMrBXEgEHr1wui/pr8EaXRB",
      "include_colab_link": true
    },
    "kernelspec": {
      "name": "python3",
      "display_name": "Python 3"
    },
    "language_info": {
      "name": "python"
    }
  },
  "cells": [
    {
      "cell_type": "markdown",
      "metadata": {
        "id": "view-in-github",
        "colab_type": "text"
      },
      "source": [
        "<a href=\"https://colab.research.google.com/github/Sri2133/Assignments/blob/main/Day7.ipynb\" target=\"_parent\"><img src=\"https://colab.research.google.com/assets/colab-badge.svg\" alt=\"Open In Colab\"/></a>"
      ]
    },
    {
      "cell_type": "code",
      "execution_count": 1,
      "metadata": {
        "colab": {
          "base_uri": "https://localhost:8080/"
        },
        "id": "UIZzzMJQ5BQ0",
        "outputId": "0a10d6cf-76b1-4941-cd8c-fc013856a44a"
      },
      "outputs": [
        {
          "output_type": "stream",
          "name": "stdout",
          "text": [
            "Lemmatized Data: ['sample', 'text', 'file', 'preprocessing', 'contains', 'multiple', 'words', 'sentences']\n",
            "Stemmed Data: ['sampl', 'text', 'file', 'preprocess', 'contain', 'multipl', 'word', 'sentenc']\n"
          ]
        }
      ],
      "source": [
        "from gensim.parsing.preprocessing import preprocess_string, strip_punctuation, strip_numeric, remove_stopwords, strip_short\n",
        "from gensim.parsing.porter import PorterStemmer\n",
        "\n",
        "def preprocess_text(text):\n",
        "    filters = [lambda x: x.lower(), strip_punctuation, strip_numeric, remove_stopwords, strip_short]\n",
        "    return preprocess_string(text, filters)\n",
        "\n",
        "sample_text = \"This is a sample text file for preprocessing. It contains multiple words and sentences.\"\n",
        "\n",
        "processed_data = preprocess_text(sample_text)\n",
        "\n",
        "stemmer = PorterStemmer()\n",
        "stemmed_data = [stemmer.stem(word) for word in processed_data]\n",
        "\n",
        "print(\"Lemmatized Data:\", processed_data)\n",
        "print(\"Stemmed Data:\", stemmed_data)\n"
      ]
    }
  ]
}