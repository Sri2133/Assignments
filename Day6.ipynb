{
  "nbformat": 4,
  "nbformat_minor": 0,
  "metadata": {
    "colab": {
      "provenance": [],
      "authorship_tag": "ABX9TyP9LL0ZyA11R+Nn5UHasKe9",
      "include_colab_link": true
    },
    "kernelspec": {
      "name": "python3",
      "display_name": "Python 3"
    },
    "language_info": {
      "name": "python"
    }
  },
  "cells": [
    {
      "cell_type": "markdown",
      "metadata": {
        "id": "view-in-github",
        "colab_type": "text"
      },
      "source": [
        "<a href=\"https://colab.research.google.com/github/Sri2133/Assignments/blob/main/Day6.ipynb\" target=\"_parent\"><img src=\"https://colab.research.google.com/assets/colab-badge.svg\" alt=\"Open In Colab\"/></a>"
      ]
    },
    {
      "cell_type": "code",
      "execution_count": 2,
      "metadata": {
        "colab": {
          "base_uri": "https://localhost:8080/"
        },
        "id": "9Jw63-3b4eQy",
        "outputId": "959478f9-49d0-459c-dcf3-04b32a4d7433"
      },
      "outputs": [
        {
          "output_type": "stream",
          "name": "stderr",
          "text": [
            "[nltk_data] Downloading package stopwords to /root/nltk_data...\n",
            "[nltk_data]   Unzipping corpora/stopwords.zip.\n"
          ]
        },
        {
          "output_type": "stream",
          "name": "stdout",
          "text": [
            "Enter a text: sri\n",
            "\n",
            "Filtered text (stopwords removed):\n",
            "sri\n"
          ]
        }
      ],
      "source": [
        " #Write a Python program to using NLTK and SpacyConvert text to lowercase.Remove stopwords using NLTK\n",
        " import nltk\n",
        " import spacy\n",
        " from nltk.corpus import stopwords\n",
        " nltk.download('stopwords')\n",
        " stop_words = set(stopwords.words('english'))\n",
        " nlp = spacy.load(\"en_core_web_sm\")\n",
        " text = input(\"Enter a text: \")\n",
        " doc = nlp(text.lower())\n",
        " filtered_words = [token.text for token in doc if token.text not in stop_words]\n",
        " filtered_text = \" \".join(filtered_words)\n",
        " print(\"\\nFiltered text (stopwords removed):\")\n",
        " print(filtered_text)"
      ]
    }
  ]
}