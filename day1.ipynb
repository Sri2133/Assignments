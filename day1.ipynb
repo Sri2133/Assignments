{
  "nbformat": 4,
  "nbformat_minor": 0,
  "metadata": {
    "colab": {
      "provenance": [],
      "authorship_tag": "ABX9TyOG0FAxN6nzGcVf57gbZXHx",
      "include_colab_link": true
    },
    "kernelspec": {
      "name": "python3",
      "display_name": "Python 3"
    },
    "language_info": {
      "name": "python"
    }
  },
  "cells": [
    {
      "cell_type": "markdown",
      "metadata": {
        "id": "view-in-github",
        "colab_type": "text"
      },
      "source": [
        "<a href=\"https://colab.research.google.com/github/Sri2133/Assignments/blob/main/day1.ipynb\" target=\"_parent\"><img src=\"https://colab.research.google.com/assets/colab-badge.svg\" alt=\"Open In Colab\"/></a>"
      ]
    },
    {
      "cell_type": "code",
      "execution_count": null,
      "metadata": {
        "colab": {
          "base_uri": "https://localhost:8080/"
        },
        "id": "1XatgE224OaC",
        "outputId": "926df9dc-989a-44ec-b3b4-4ecbd07f44b4"
      },
      "outputs": [
        {
          "output_type": "stream",
          "name": "stdout",
          "text": [
            "Integer Variable:\n",
            "Value: 10 | Type: <class 'int'>\n",
            "\n",
            "Float Variable:\n",
            "Value: 15.75 | Type: <class 'float'>\n",
            "\n",
            "String Variable:\n",
            "Value: Hello, Jupyter! | Type: <class 'str'>\n",
            "\n",
            "Boolean Variable:\n",
            "Value: True | Type: <class 'bool'>\n"
          ]
        }
      ],
      "source": [
        "integer_var = 10\n",
        "float_var = 15.75\n",
        "string_var = \"Hello, Jupyter!\"\n",
        "boolean_var = True\n",
        "print(\"Integer Variable:\")\n",
        "print(\"Value:\", integer_var, \"| Type:\", type(integer_var))\n",
        "print(\"\\nFloat Variable:\")\n",
        "print(\"Value:\", float_var, \"| Type:\", type(float_var))\n",
        "print(\"\\nString Variable:\")\n",
        "print(\"Value:\", string_var, \"| Type:\", type(string_var))\n",
        "print(\"\\nBoolean Variable:\")\n",
        "print(\"Value:\", boolean_var, \"| Type:\", type(boolean_var))"
      ]
    },
    {
      "cell_type": "code",
      "source": [],
      "metadata": {
        "id": "H6mrDp8e7QPy"
      },
      "execution_count": null,
      "outputs": []
    }
  ]
}