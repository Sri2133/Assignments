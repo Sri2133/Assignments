{
  "nbformat": 4,
  "nbformat_minor": 0,
  "metadata": {
    "colab": {
      "provenance": [],
      "authorship_tag": "ABX9TyOXifxJBYo9zSmaL493Xe0y",
      "include_colab_link": true
    },
    "kernelspec": {
      "name": "python3",
      "display_name": "Python 3"
    },
    "language_info": {
      "name": "python"
    }
  },
  "cells": [
    {
      "cell_type": "markdown",
      "metadata": {
        "id": "view-in-github",
        "colab_type": "text"
      },
      "source": [
        "<a href=\"https://colab.research.google.com/github/Sri2133/Assignments/blob/main/Day3.ipynb\" target=\"_parent\"><img src=\"https://colab.research.google.com/assets/colab-badge.svg\" alt=\"Open In Colab\"/></a>"
      ]
    },
    {
      "cell_type": "code",
      "execution_count": 2,
      "metadata": {
        "colab": {
          "base_uri": "https://localhost:8080/"
        },
        "id": "VSjx3c-iDosC",
        "outputId": "0bf5c9ef-e922-417b-a0a9-c132ace5873f"
      },
      "outputs": [
        {
          "output_type": "stream",
          "name": "stdout",
          "text": [
            "Enter marks for Subject 1: 90\n",
            "Enter marks for Subject 2: 70\n",
            "Enter marks for Subject 3: 50\n",
            "Grade: C\n"
          ]
        }
      ],
      "source": [
        "# Write a Python program that takes a student's marks in three subjects as input.If the average is greater than or equal to 90, print \"Grade: A\".If the average is between 80 and 89, print\"Grade: B\".If the average is between 70 and 79,print \"Grade: C\".Otherwise, print \"Grade:Fail\".\n",
        "subject1 = float(input(\"Enter marks for Subject 1: \"))\n",
        "subject2 = float(input(\"Enter marks for Subject 2: \"))\n",
        "subject3 = float(input(\"Enter marks for Subject 3: \"))\n",
        "average = (subject1 + subject2 + subject3) / 3\n",
        "if average >= 90:\n",
        "  print(\"Grade: A\")\n",
        "elif 80 <= average < 90:\n",
        "  print(\"Grade: B\")\n",
        "elif 70 <= average < 80:\n",
        "  print(\"Grade: C\")\n",
        "else:\n",
        "  print(\"Grade: Fail\")"
      ]
    }
  ]
}