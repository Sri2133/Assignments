{
  "nbformat": 4,
  "nbformat_minor": 0,
  "metadata": {
    "colab": {
      "provenance": [],
      "authorship_tag": "ABX9TyNr1F1SMAiyZQu+WTHv+raI",
      "include_colab_link": true
    },
    "kernelspec": {
      "name": "python3",
      "display_name": "Python 3"
    },
    "language_info": {
      "name": "python"
    }
  },
  "cells": [
    {
      "cell_type": "markdown",
      "metadata": {
        "id": "view-in-github",
        "colab_type": "text"
      },
      "source": [
        "<a href=\"https://colab.research.google.com/github/Sri2133/Assignments/blob/main/Day4.ipynb\" target=\"_parent\"><img src=\"https://colab.research.google.com/assets/colab-badge.svg\" alt=\"Open In Colab\"/></a>"
      ]
    },
    {
      "cell_type": "code",
      "execution_count": 1,
      "metadata": {
        "colab": {
          "base_uri": "https://localhost:8080/"
        },
        "id": "kGryYIqx3VV-",
        "outputId": "66fd86ca-39e1-493b-ee6a-70a27c02d0b7"
      },
      "outputs": [
        {
          "output_type": "stream",
          "name": "stdout",
          "text": [
            "Enter a positive integer: 5\n",
            "The sum of all even numbers between 1 and 5 is: 2\n",
            "The sum of all even numbers between 1 and 5 is: 6\n"
          ]
        }
      ],
      "source": [
        "#Write a Python program to calculate the sum of#all even numbers between 1 and a given positive integer n\n",
        "n = int(input(\"Enter a positive integer: \"))\n",
        "even_sum = 0\n",
        "for i in range(2, n + 1, 2):\n",
        "  even_sum += i\n",
        "print(f\"The sum of all even numbers between 1 and {n} is: {even_sum}\")"
      ]
    }
  ]
}