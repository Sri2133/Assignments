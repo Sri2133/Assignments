{
  "nbformat": 4,
  "nbformat_minor": 0,
  "metadata": {
    "colab": {
      "provenance": [],
      "authorship_tag": "ABX9TyOnGuW+tsFfydLvKYswGjei",
      "include_colab_link": true
    },
    "kernelspec": {
      "name": "python3",
      "display_name": "Python 3"
    },
    "language_info": {
      "name": "python"
    }
  },
  "cells": [
    {
      "cell_type": "markdown",
      "metadata": {
        "id": "view-in-github",
        "colab_type": "text"
      },
      "source": [
        "<a href=\"https://colab.research.google.com/github/Sri2133/Assignments/blob/main/Day5.ipynb\" target=\"_parent\"><img src=\"https://colab.research.google.com/assets/colab-badge.svg\" alt=\"Open In Colab\"/></a>"
      ]
    },
    {
      "cell_type": "code",
      "execution_count": 1,
      "metadata": {
        "colab": {
          "base_uri": "https://localhost:8080/"
        },
        "id": "QZrpzXOA33zt",
        "outputId": "3653f797-bdbd-4baa-d8f8-74261674d3d2"
      },
      "outputs": [
        {
          "output_type": "stream",
          "name": "stdout",
          "text": [
            "Enter a text: sri\n",
            "\n",
            "Word frequencies:\n",
            "sri: 1\n"
          ]
        }
      ],
      "source": [
        "#write a python program to calculate the frequenecy of each word in a given text.print the words and their corrosponding counts\n",
        "text = input(\"Enter a text: \")\n",
        "words = text.lower().split()\n",
        "word_counts = {}\n",
        "for word in words:\n",
        "  word_counts[word] = word_counts.get(word, 0) + 1\n",
        "print(\"\\nWord frequencies:\")\n",
        "for word, count in word_counts.items():\n",
        "  print(f\"{word}: {count}\")"
      ]
    }
  ]
}